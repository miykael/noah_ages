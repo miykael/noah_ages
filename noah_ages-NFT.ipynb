{
 "cells": [
  {
   "cell_type": "markdown",
   "metadata": {},
   "source": [
    "# Create 7777 video - 'everyday' for NFT"
   ]
  },
  {
   "cell_type": "markdown",
   "metadata": {},
   "source": [
    "## Prepare everything"
   ]
  },
  {
   "cell_type": "code",
   "execution_count": null,
   "metadata": {},
   "outputs": [],
   "source": [
    "import os\n",
    "import shutil\n",
    "import cv2\n",
    "from skimage import io\n",
    "from glob import glob\n",
    "import numpy as np\n",
    "import pandas as pd\n",
    "import matplotlib.pyplot as plt\n",
    "from matplotlib import patches\n",
    "\n",
    "from tqdm.notebook import tqdm"
   ]
  },
  {
   "cell_type": "markdown",
   "metadata": {},
   "source": [
    "# Setup video parameters"
   ]
  },
  {
   "cell_type": "code",
   "execution_count": null,
   "metadata": {},
   "outputs": [],
   "source": [
    "# Get all filenames\n",
    "imgs = sorted(glob('img_aligned/20*'))\n",
    "\n",
    "# Extract number of images\n",
    "N_total = len(imgs)\n",
    "N_total"
   ]
  },
  {
   "cell_type": "code",
   "execution_count": null,
   "metadata": {},
   "outputs": [],
   "source": [
    "# How many images to smooth at once\n",
    "smooth = 60"
   ]
  },
  {
   "cell_type": "code",
   "execution_count": null,
   "metadata": {},
   "outputs": [],
   "source": [
    "# How many days to jump at every image\n",
    "step_size = 1"
   ]
  },
  {
   "cell_type": "code",
   "execution_count": null,
   "metadata": {},
   "outputs": [],
   "source": [
    "# Get start indeces for images\n",
    "ids = [i*step_size for i in range((N_total+smooth)//step_size+1)]\n",
    "len(ids)"
   ]
  },
  {
   "cell_type": "code",
   "execution_count": null,
   "metadata": {},
   "outputs": [],
   "source": [
    "# Specify frames per second\n",
    "fps = 60\n",
    "\n",
    "print('Video length: %.2f seconds.' % (len(ids)/fps))"
   ]
  },
  {
   "cell_type": "markdown",
   "metadata": {},
   "source": [
    "# Rescale all photos"
   ]
  },
  {
   "cell_type": "raw",
   "metadata": {},
   "source": [
    "from skimage.transform import rescale\n",
    "\n",
    "# Save images to disk\n",
    "out_dir = 'img_small'\n",
    "if not os.path.exists(out_dir):\n",
    "    os.makedirs(out_dir)\n",
    "\n",
    "for f in tqdm(imgs):\n",
    "    \n",
    "    # Rescale image\n",
    "    img_rescaled = rescale(io.imread(f), 0.5, anti_aliasing=True, multichannel=True, preserve_range=True)\n",
    "    \n",
    "    # Store file to disk\n",
    "    out_filename = os.path.join(out_dir, f.split('/')[1])\n",
    "    io.imsave(out_filename, img_rescaled.astype('uint8'))"
   ]
  },
  {
   "cell_type": "code",
   "execution_count": null,
   "metadata": {},
   "outputs": [],
   "source": [
    "# Or with command line\n",
    "#for i in `ls img_aligned/*`; do convert $i -resize 2560x1440 img_wqhd/${i:12}; done"
   ]
  },
  {
   "cell_type": "code",
   "execution_count": null,
   "metadata": {},
   "outputs": [],
   "source": [
    "# Resolution information\n",
    "ultraHD = (3840, 2160)\n",
    "WQHD = (2560, 1440)\n",
    "fullHD = (1920, 1080)"
   ]
  },
  {
   "cell_type": "markdown",
   "metadata": {},
   "source": [
    "# Create video"
   ]
  },
  {
   "cell_type": "code",
   "execution_count": null,
   "metadata": {},
   "outputs": [],
   "source": [
    "# Get all filenames of the small images\n",
    "imgs_small = sorted(glob('img_small/20*'))"
   ]
  },
  {
   "cell_type": "markdown",
   "metadata": {},
   "source": [
    "### Mean image of 1080p size"
   ]
  },
  {
   "cell_type": "code",
   "execution_count": null,
   "metadata": {},
   "outputs": [],
   "source": [
    "# Save images to disk\n",
    "out_dir = 'img_video_mean'\n",
    "if not os.path.exists(out_dir):\n",
    "    os.makedirs(out_dir)\n",
    "\n",
    "# To keep track what was already loaded\n",
    "already_loaded = []\n",
    "\n",
    "for i in tqdm(ids):\n",
    "    \n",
    "    # Collect indeces of images\n",
    "    imgs_idx = np.arange(np.clip(i-smooth, 0, N_total-1), np.clip(i, 0, N_total-1)+1)\n",
    "\n",
    "    # Collect images relevant for the group\n",
    "    group_names = np.array(imgs_small)[imgs_idx]\n",
    "    \n",
    "    # Detect which one is new to load\n",
    "    new_to_load = np.setdiff1d(group_names, already_loaded)\n",
    "    \n",
    "    if len(new_to_load)==0:\n",
    "        pass\n",
    "    elif i==0:\n",
    "        imgs_group = np.array([io.imread(f) for f in new_to_load])\n",
    "    else:\n",
    "        img_new = np.array([io.imread(f) for f in new_to_load])\n",
    "        imgs_group = np.vstack((imgs_group, img_new))\n",
    "        \n",
    "    # Cut imgs_group to write size\n",
    "    n_offset = (i - N_total)\n",
    "    if n_offset <= 0:\n",
    "        n_offset = 0\n",
    "    elif n_offset%2==0:\n",
    "        n_offset -= 1\n",
    "    imgs_group = imgs_group[-smooth+n_offset:]\n",
    "    \n",
    "    # Create composition image\n",
    "    img_comp = np.mean(imgs_group, axis=0).astype('int')\n",
    "    \n",
    "    # Create out_filename\n",
    "    out_filename = os.path.join(out_dir, '%04d.jpg' % (i + 1))\n",
    "    \n",
    "    # Save composition image\n",
    "    io.imsave(out_filename, img_comp.astype('uint8'))\n",
    "\n",
    "    # Keep track of what has already been loaded\n",
    "    already_loaded = group_names"
   ]
  },
  {
   "cell_type": "code",
   "execution_count": null,
   "metadata": {},
   "outputs": [],
   "source": [
    "# Use either code (the one that works) to create the video\n",
    "!cat img_video_mean/*jpg | ffmpeg -f image2pipe -r $fps -vcodec mjpeg -i - -vcodec libx264 video_mean_60fps.mp4\n",
    "#!ffmpeg -r 30 -f image2 -pattern_type glob -i 'img_video_mean/*.jpg' -c:v libx264 -profile:v high video_mean.mp4"
   ]
  }
 ],
 "metadata": {
  "kernelspec": {
   "display_name": "Python 3",
   "language": "python",
   "name": "python3"
  },
  "language_info": {
   "codemirror_mode": {
    "name": "ipython",
    "version": 3
   },
   "file_extension": ".py",
   "mimetype": "text/x-python",
   "name": "python",
   "nbconvert_exporter": "python",
   "pygments_lexer": "ipython3",
   "version": "3.9.2"
  }
 },
 "nbformat": 4,
 "nbformat_minor": 4
}
